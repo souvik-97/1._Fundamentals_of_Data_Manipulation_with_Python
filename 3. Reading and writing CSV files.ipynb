{
 "cells": [
  {
   "cell_type": "markdown",
   "metadata": {},
   "source": [
    "# Data Files and Summary statistics "
   ]
  },
  {
   "cell_type": "code",
   "execution_count": 4,
   "metadata": {
    "scrolled": true
   },
   "outputs": [
    {
     "data": {
      "text/plain": [
       "[{'mpg': '18',\n",
       "  'cylinders': '8',\n",
       "  'displacement': '307',\n",
       "  'horsepower': '130',\n",
       "  'weight': '3504',\n",
       "  'acceleration': '12',\n",
       "  'model_year': '70',\n",
       "  'origin': '1',\n",
       "  'name': 'chevrolet chevelle malibu'},\n",
       " {'mpg': '15',\n",
       "  'cylinders': '8',\n",
       "  'displacement': '350',\n",
       "  'horsepower': '165',\n",
       "  'weight': '3693',\n",
       "  'acceleration': '11.5',\n",
       "  'model_year': '70',\n",
       "  'origin': '1',\n",
       "  'name': 'buick skylark 320'},\n",
       " {'mpg': '18',\n",
       "  'cylinders': '8',\n",
       "  'displacement': '318',\n",
       "  'horsepower': '150',\n",
       "  'weight': '3436',\n",
       "  'acceleration': '11',\n",
       "  'model_year': '70',\n",
       "  'origin': '1',\n",
       "  'name': 'plymouth satellite'}]"
      ]
     },
     "execution_count": 4,
     "metadata": {},
     "output_type": "execute_result"
    }
   ],
   "source": [
    "import csv\n",
    "\n",
    "%precision 2 #Floating point precision\n",
    "\n",
    "with open('mpg.csv') as csvfiles:\n",
    "    mpg = list(csv.DictReader(csvfiles))\n",
    "\n",
    "mpg[:3]"
   ]
  },
  {
   "cell_type": "code",
   "execution_count": 5,
   "metadata": {
    "scrolled": true
   },
   "outputs": [
    {
     "data": {
      "text/plain": [
       "398"
      ]
     },
     "execution_count": 5,
     "metadata": {},
     "output_type": "execute_result"
    }
   ],
   "source": [
    "len(mpg)"
   ]
  },
  {
   "cell_type": "code",
   "execution_count": 6,
   "metadata": {},
   "outputs": [
    {
     "data": {
      "text/plain": [
       "[{'mpg': '15',\n",
       "  'cylinders': '8',\n",
       "  'displacement': '350',\n",
       "  'horsepower': '165',\n",
       "  'weight': '3693',\n",
       "  'acceleration': '11.5',\n",
       "  'model_year': '70',\n",
       "  'origin': '1',\n",
       "  'name': 'buick skylark 320'},\n",
       " {'mpg': '18',\n",
       "  'cylinders': '8',\n",
       "  'displacement': '318',\n",
       "  'horsepower': '150',\n",
       "  'weight': '3436',\n",
       "  'acceleration': '11',\n",
       "  'model_year': '70',\n",
       "  'origin': '1',\n",
       "  'name': 'plymouth satellite'}]"
      ]
     },
     "execution_count": 6,
     "metadata": {},
     "output_type": "execute_result"
    }
   ],
   "source": [
    "mpg[1:3]"
   ]
  },
  {
   "cell_type": "code",
   "execution_count": 7,
   "metadata": {
    "scrolled": true
   },
   "outputs": [
    {
     "data": {
      "text/plain": [
       "dict_keys(['mpg', 'cylinders', 'displacement', 'horsepower', 'weight', 'acceleration', 'model_year', 'origin', 'name'])"
      ]
     },
     "execution_count": 7,
     "metadata": {},
     "output_type": "execute_result"
    }
   ],
   "source": [
    "mpg[0].keys()"
   ]
  },
  {
   "cell_type": "markdown",
   "metadata": {},
   "source": [
    "find the average cty fuel economy across all cars. All values in the dictionaries are strings, so we need to convert to float."
   ]
  },
  {
   "cell_type": "code",
   "execution_count": 8,
   "metadata": {},
   "outputs": [
    {
     "data": {
      "text/plain": [
       "23.514572864321615"
      ]
     },
     "execution_count": 8,
     "metadata": {},
     "output_type": "execute_result"
    }
   ],
   "source": [
    "sum(float(d['mpg']) for d in mpg) / len(mpg)"
   ]
  },
  {
   "cell_type": "code",
   "execution_count": 9,
   "metadata": {
    "scrolled": true
   },
   "outputs": [
    {
     "ename": "NameError",
     "evalue": "name 'd' is not defined",
     "output_type": "error",
     "traceback": [
      "\u001b[1;31m---------------------------------------------------------------------------\u001b[0m",
      "\u001b[1;31mNameError\u001b[0m                                 Traceback (most recent call last)",
      "\u001b[1;32m<ipython-input-9-de185c324a17>\u001b[0m in \u001b[0;36m<module>\u001b[1;34m\u001b[0m\n\u001b[1;32m----> 1\u001b[1;33m \u001b[0msum\u001b[0m\u001b[1;33m(\u001b[0m\u001b[0mfloat\u001b[0m\u001b[1;33m(\u001b[0m\u001b[0md\u001b[0m\u001b[1;33m[\u001b[0m\u001b[1;34m'mpg'\u001b[0m\u001b[1;33m]\u001b[0m\u001b[1;33m)\u001b[0m\u001b[1;33m)\u001b[0m \u001b[1;31m#we have yo use for loop\u001b[0m\u001b[1;33m\u001b[0m\u001b[1;33m\u001b[0m\u001b[0m\n\u001b[0m",
      "\u001b[1;31mNameError\u001b[0m: name 'd' is not defined"
     ]
    }
   ],
   "source": [
    "sum(float(d['mpg'])) #we have yo use for loop"
   ]
  },
  {
   "cell_type": "code",
   "execution_count": null,
   "metadata": {},
   "outputs": [],
   "source": [
    "sum(float(d['weight']) for d in mpg) / len(mpg)"
   ]
  },
  {
   "cell_type": "code",
   "execution_count": null,
   "metadata": {},
   "outputs": [],
   "source": [
    "cylinders = set(d['cylinders'] for d in mpg)\n",
    "cylinders     #No repetition in set"
   ]
  },
  {
   "cell_type": "code",
   "execution_count": null,
   "metadata": {},
   "outputs": [],
   "source": [
    "CityMpgByCyl = []   #create empty list\n",
    "\n",
    "for c in cylinders:\n",
    "    summpg = 0\n",
    "    cylcount = 0\n",
    "    for d in mpg:\n",
    "        if d['cylinders'] == c:\n",
    "            summpg += float(d['mpg'])\n",
    "            cylcount += 1\n",
    "    CityMpgByCyl.append((c, summpg/cylcount))\n",
    "    \n",
    "CityMpgByCyl.sort(key=lambda x:x[0])\n",
    "CityMpgByCyl"
   ]
  },
  {
   "cell_type": "code",
   "execution_count": null,
   "metadata": {
    "scrolled": false
   },
   "outputs": [],
   "source": [
    "mod_yr = set(d['model_year'] for d in mpg)\n",
    "mod_yr "
   ]
  },
  {
   "cell_type": "code",
   "execution_count": null,
   "metadata": {},
   "outputs": [],
   "source": [
    "MpgByModYr = []\n",
    "\n",
    "for m in mod_yr:\n",
    "    summpg = 0\n",
    "    ModYrCount = 0\n",
    "    for d in mpg:\n",
    "        if d['model_year'] == m:\n",
    "            summpg += float(d['mpg'])\n",
    "            ModYrCount += 1\n",
    "    MpgByModYr.append((m, summpg/ModYrCount))\n",
    "\n",
    "MpgByModYr.sort(key=lambda x:x[0])\n",
    "MpgByModYr"
   ]
  },
  {
   "cell_type": "code",
   "execution_count": null,
   "metadata": {},
   "outputs": [],
   "source": []
  }
 ],
 "metadata": {
  "kernelspec": {
   "display_name": "Python 3",
   "language": "python",
   "name": "python3"
  },
  "language_info": {
   "codemirror_mode": {
    "name": "ipython",
    "version": 3
   },
   "file_extension": ".py",
   "mimetype": "text/x-python",
   "name": "python",
   "nbconvert_exporter": "python",
   "pygments_lexer": "ipython3",
   "version": "3.8.5"
  }
 },
 "nbformat": 4,
 "nbformat_minor": 4
}
