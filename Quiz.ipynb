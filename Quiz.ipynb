{
 "cells": [
  {
   "cell_type": "code",
   "execution_count": 1,
   "metadata": {},
   "outputs": [
    {
     "name": "stdout",
     "output_type": "stream",
     "text": [
      "['bat', 'bot']\n"
     ]
    }
   ],
   "source": [
    "# Q1 What will be the output of the following code?\n",
    "import re\n",
    "string = 'bat, lat, mat, bet, let, met, bit, lit, mit, bot, lot, mot'\n",
    "result = re.findall('b[ao]t', string)\n",
    "print(result)"
   ]
  },
  {
   "cell_type": "code",
   "execution_count": 3,
   "metadata": {},
   "outputs": [
    {
     "ename": "SyntaxError",
     "evalue": "invalid decimal literal (<ipython-input-3-a854bfc6a8f3>, line 7)",
     "output_type": "error",
     "traceback": [
      "\u001b[1;36m  File \u001b[1;32m\"<ipython-input-3-a854bfc6a8f3>\"\u001b[1;36m, line \u001b[1;32m7\u001b[0m\n\u001b[1;33m    12_dist(a.T,b.T)\u001b[0m\n\u001b[1;37m      ^\u001b[0m\n\u001b[1;31mSyntaxError\u001b[0m\u001b[1;31m:\u001b[0m invalid decimal literal\n"
     ]
    }
   ],
   "source": [
    "def l2_dist(a, b):\n",
    "    result = ((a - b) * (a - b)).sum()\n",
    "    result = result ** 0.5\n",
    "    return result\n",
    "\n",
    "#12_dist(np.reshape(a,(20*20)), np.reshape(b,(20*20,1)))\n",
    "12_dist(a.T,b.T)"
   ]
  },
  {
   "cell_type": "code",
   "execution_count": 11,
   "metadata": {},
   "outputs": [
    {
     "name": "stdout",
     "output_type": "stream",
     "text": [
      "[0.58031787 0.48252831 0.39650235 0.90636894]\n",
      "[[0.61258042]\n",
      " [0.04476757]\n",
      " [0.79503473]\n",
      " [0.66941662]]\n",
      "(4,)\n",
      "(4, 1)\n",
      "(1, 4)\n",
      "(3,)\n",
      "(4,)\n"
     ]
    }
   ],
   "source": [
    "import numpy as np\n",
    "\n",
    "a1 = np.random.rand(4)\n",
    "a2 = np.random.rand(4, 1)\n",
    "a3 = np.array([[1, 2, 3, 4]])\n",
    "a4 = np.arange(1, 4, 1)\n",
    "a5 = np.linspace(1 ,4, 4)\n",
    "print(a1)\n",
    "print(a2)\n",
    "\n",
    "print(a1.shape)\n",
    "print(a2.shape)\n",
    "print(a3.shape)\n",
    "print(a4.shape)\n",
    "print(a5.shape)"
   ]
  },
  {
   "cell_type": "code",
   "execution_count": 12,
   "metadata": {},
   "outputs": [
    {
     "name": "stdout",
     "output_type": "stream",
     "text": [
      "[[0 0 1]\n",
      " [1 1 1]]\n"
     ]
    }
   ],
   "source": [
    "#Q4 Which of the following is the correct output for the code given below?\n",
    "import numpy as np\n",
    "\n",
    "old = np.array([[1, 1, 1], [1, 1, 1]])\n",
    "new = old\n",
    "new[0, :2] = 0\n",
    "print(old)"
   ]
  },
  {
   "cell_type": "code",
   "execution_count": 17,
   "metadata": {},
   "outputs": [
    {
     "data": {
      "text/plain": [
       "['AC']"
      ]
     },
     "execution_count": 17,
     "metadata": {},
     "output_type": "execute_result"
    }
   ],
   "source": [
    "#Q6 For the given string, which of the following regular expressions can be used to check if the string starts with 'AC'?\n",
    "import re\n",
    "s = 'ACBCAC'\n",
    "\n",
    "re.findall('^AC',s)"
   ]
  },
  {
   "cell_type": "code",
   "execution_count": 20,
   "metadata": {},
   "outputs": [
    {
     "name": "stdout",
     "output_type": "stream",
     "text": [
      "['A', 'AA', 'AA', 'AA', 'A']\n",
      "5\n"
     ]
    }
   ],
   "source": [
    "# Q6 What will be the output of the variable L after the following code is executed?\n",
    "import re\n",
    "\n",
    "s = 'ACAABAACAAAB'\n",
    "result = re.findall('A{1,2}', s)\n",
    "print(result)\n",
    "L = len(result)\n",
    "print(L)"
   ]
  },
  {
   "cell_type": "code",
   "execution_count": 25,
   "metadata": {},
   "outputs": [
    {
     "name": "stdout",
     "output_type": "stream",
     "text": [
      "4\n"
     ]
    }
   ],
   "source": [
    "#Q10\n",
    "text=r'''Everyone has the following fundamental freedoms:\n",
    "(a) freedom of conscience and religion;\n",
    "(b) freedom of thought, belief, opinion and expression, including freedom of the press and other media of communication;\n",
    "(c) freedom of peaceful assembly; and\n",
    "(d) freedom of association.\n",
    "'''\n",
    "\n",
    "import re\n",
    "\n",
    "#pattern = 'freedom'\n",
    "pattern = '\\(.\\)'\n",
    "\n",
    "print(len(re.findall(pattern,text)))"
   ]
  },
  {
   "cell_type": "code",
   "execution_count": null,
   "metadata": {},
   "outputs": [],
   "source": []
  }
 ],
 "metadata": {
  "kernelspec": {
   "display_name": "Python 3",
   "language": "python",
   "name": "python3"
  },
  "language_info": {
   "codemirror_mode": {
    "name": "ipython",
    "version": 3
   },
   "file_extension": ".py",
   "mimetype": "text/x-python",
   "name": "python",
   "nbconvert_exporter": "python",
   "pygments_lexer": "ipython3",
   "version": "3.8.5"
  }
 },
 "nbformat": 4,
 "nbformat_minor": 4
}
